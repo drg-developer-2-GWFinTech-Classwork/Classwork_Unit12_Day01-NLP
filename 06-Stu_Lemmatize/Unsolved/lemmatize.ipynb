{
 "cells": [
  {
   "cell_type": "markdown",
   "metadata": {},
   "source": [
    "# Students Do: Lemmatize\n",
    "In this activity, create a function that performs stopwording, regex cleaning of non-letter characters, word tokenizing, and lemmatization on each word in the article"
   ]
  },
  {
   "cell_type": "code",
   "execution_count": 19,
   "metadata": {},
   "outputs": [
    {
     "output_type": "stream",
     "name": "stderr",
     "text": [
      "[nltk_data] Downloading package reuters to\n[nltk_data]     C:\\Users\\david\\AppData\\Roaming\\nltk_data...\n[nltk_data]   Package reuters is already up-to-date!\n[nltk_data] Downloading package stopwords to\n[nltk_data]     C:\\Users\\david\\AppData\\Roaming\\nltk_data...\n[nltk_data]   Package stopwords is already up-to-date!\n[nltk_data] Downloading package punkt to\n[nltk_data]     C:\\Users\\david\\AppData\\Roaming\\nltk_data...\n[nltk_data]   Package punkt is already up-to-date!\n[nltk_data] Downloading package wordnet to\n[nltk_data]     C:\\Users\\david\\AppData\\Roaming\\nltk_data...\n[nltk_data]   Package wordnet is already up-to-date!\n"
     ]
    },
    {
     "output_type": "execute_result",
     "data": {
      "text/plain": [
       "True"
      ]
     },
     "metadata": {},
     "execution_count": 19
    }
   ],
   "source": [
    "from nltk.stem import WordNetLemmatizer \n",
    "from nltk.tokenize import word_tokenize\n",
    "from nltk.corpus import reuters, stopwords\n",
    "import re\n",
    "\n",
    "# Code to download corpora\n",
    "import nltk\n",
    "nltk.download('reuters')\n",
    "nltk.download('stopwords')\n",
    "nltk.download('punkt')\n",
    "nltk.download('wordnet')"
   ]
  },
  {
   "cell_type": "code",
   "execution_count": 20,
   "metadata": {},
   "outputs": [],
   "source": [
    "# Instantiate the lemmatizer\n",
    "lemmatizer = WordNetLemmatizer()"
   ]
  },
  {
   "cell_type": "code",
   "execution_count": 21,
   "metadata": {},
   "outputs": [
    {
     "output_type": "stream",
     "name": "stdout",
     "text": [
      "HUNGARY RAISES PRICES IN EFFORT TO CURB DEFICIT\n  Hungary has announced sharp price\n  increases for a range of food and consumer products as part of\n  its efforts to curb a soaring budget deficit.\n      The official MTI news agency said the government decided\n  consumer price subsidies had to be cut to reduce state\n  spending. From today the price of meat will rise by an average\n  18 pct and that of beer and spirits by 10 pct, MTI said.\n      MTI said consumer goods will also become more expensive,\n  with the price of refrigerators rising some five pct. It also\n  announced a number of measures to ease hardship, including\n  higher pensions and family allowances.\n      Statistics indicate the budget deficit tripled in 1986 to\n  47 billion forints. Central banker Janos Fekete has said the\n  Finance Ministry is trying to cut the 1987 shortfall to between\n  30 and 35 billion from a planned 43.8 billion.\n      A major tax reform, including the introduction of a\n  Western-style valued added tax, is planned for January 1988 in\n  an effort to cure problems in state spending.\n      But diplomats said the latest announcement shows the\n  authorities were forced to act quickly to keep this year's\n  deficit under control.\n      The measures are also aimed at cooling an overheated\n  economy, and could help dampen Hungarians' appetite for\n  imported Western goods which consume increasingly expensive\n  hard currency, the diplomats said.\n      The diplomats also said, however, that they did not expect\n  the kind of social unrest that followed sharp price rises in\n  other East Bloc states, notably Poland.\n  \n\n\n"
     ]
    }
   ],
   "source": [
    "article = reuters.raw(fileids=reuters.fileids(categories='cpi')[2])\n",
    "print(article)"
   ]
  },
  {
   "cell_type": "code",
   "execution_count": 22,
   "metadata": {},
   "outputs": [],
   "source": [
    "# Define function\n",
    "def clean_text(article):\n",
    "    lemmatizer = WordNetLemmatizer()\n",
    "    sw = set(stopwords.words('english'))\n",
    "    regex = re.compile(\"[^a-zA-Z ]\")\n",
    "    \n",
    "    re_clean = regex.sub('', article)\n",
    "    words = word_tokenize(re_clean)\n",
    "    output = [word.lower() for word in words if word.lower() not in sw]\n",
    "    # Good, BUT: Best practice is alway sto perform lemmatizer BEFORE stopwords, to ensure proper capture of the stop words.\n",
    "    output = [lemmatizer.lemmatize(word, pos='v') for word in output]\n",
    "    return output"
   ]
  },
  {
   "cell_type": "code",
   "execution_count": 23,
   "metadata": {},
   "outputs": [
    {
     "output_type": "execute_result",
     "data": {
      "text/plain": [
       "['hungary',\n",
       " 'raise',\n",
       " 'price',\n",
       " 'effort',\n",
       " 'curb',\n",
       " 'deficit',\n",
       " 'hungary',\n",
       " 'announce',\n",
       " 'sharp',\n",
       " 'price',\n",
       " 'increase',\n",
       " 'range',\n",
       " 'food',\n",
       " 'consumer',\n",
       " 'products',\n",
       " 'part',\n",
       " 'efforts',\n",
       " 'curb',\n",
       " 'soar',\n",
       " 'budget',\n",
       " 'deficit',\n",
       " 'official',\n",
       " 'mti',\n",
       " 'news',\n",
       " 'agency',\n",
       " 'say',\n",
       " 'government',\n",
       " 'decide',\n",
       " 'consumer',\n",
       " 'price',\n",
       " 'subsidies',\n",
       " 'cut',\n",
       " 'reduce',\n",
       " 'state',\n",
       " 'spend',\n",
       " 'today',\n",
       " 'price',\n",
       " 'meat',\n",
       " 'rise',\n",
       " 'average',\n",
       " 'pct',\n",
       " 'beer',\n",
       " 'spirit',\n",
       " 'pct',\n",
       " 'mti',\n",
       " 'say',\n",
       " 'mti',\n",
       " 'say',\n",
       " 'consumer',\n",
       " 'goods',\n",
       " 'also',\n",
       " 'become',\n",
       " 'expensive',\n",
       " 'price',\n",
       " 'refrigerators',\n",
       " 'rise',\n",
       " 'five',\n",
       " 'pct',\n",
       " 'also',\n",
       " 'announce',\n",
       " 'number',\n",
       " 'measure',\n",
       " 'ease',\n",
       " 'hardship',\n",
       " 'include',\n",
       " 'higher',\n",
       " 'pension',\n",
       " 'family',\n",
       " 'allowance',\n",
       " 'statistics',\n",
       " 'indicate',\n",
       " 'budget',\n",
       " 'deficit',\n",
       " 'triple',\n",
       " 'billion',\n",
       " 'forints',\n",
       " 'central',\n",
       " 'banker',\n",
       " 'janos',\n",
       " 'fekete',\n",
       " 'say',\n",
       " 'finance',\n",
       " 'ministry',\n",
       " 'try',\n",
       " 'cut',\n",
       " 'shortfall',\n",
       " 'billion',\n",
       " 'plan',\n",
       " 'billion',\n",
       " 'major',\n",
       " 'tax',\n",
       " 'reform',\n",
       " 'include',\n",
       " 'introduction',\n",
       " 'westernstyle',\n",
       " 'value',\n",
       " 'add',\n",
       " 'tax',\n",
       " 'plan',\n",
       " 'january',\n",
       " 'effort',\n",
       " 'cure',\n",
       " 'problems',\n",
       " 'state',\n",
       " 'spend',\n",
       " 'diplomats',\n",
       " 'say',\n",
       " 'latest',\n",
       " 'announcement',\n",
       " 'show',\n",
       " 'authorities',\n",
       " 'force',\n",
       " 'act',\n",
       " 'quickly',\n",
       " 'keep',\n",
       " 'years',\n",
       " 'deficit',\n",
       " 'control',\n",
       " 'measure',\n",
       " 'also',\n",
       " 'aim',\n",
       " 'cool',\n",
       " 'overheat',\n",
       " 'economy',\n",
       " 'could',\n",
       " 'help',\n",
       " 'dampen',\n",
       " 'hungarians',\n",
       " 'appetite',\n",
       " 'import',\n",
       " 'western',\n",
       " 'goods',\n",
       " 'consume',\n",
       " 'increasingly',\n",
       " 'expensive',\n",
       " 'hard',\n",
       " 'currency',\n",
       " 'diplomats',\n",
       " 'say',\n",
       " 'diplomats',\n",
       " 'also',\n",
       " 'say',\n",
       " 'however',\n",
       " 'expect',\n",
       " 'kind',\n",
       " 'social',\n",
       " 'unrest',\n",
       " 'follow',\n",
       " 'sharp',\n",
       " 'price',\n",
       " 'rise',\n",
       " 'east',\n",
       " 'bloc',\n",
       " 'state',\n",
       " 'notably',\n",
       " 'poland']"
      ]
     },
     "metadata": {},
     "execution_count": 23
    }
   ],
   "source": [
    "clean_text(article)"
   ]
  },
  {
   "cell_type": "code",
   "execution_count": 24,
   "metadata": {},
   "outputs": [],
   "source": [
    "# # Define function\n",
    "# def process_text(article):\n",
    "#     lemmatizer = WordNetLemmatizer()\n",
    "#     #lemmatized\n",
    "#     article_words = \n",
    "#     for word in article_words\n",
    "#     lemmatizer()\n",
    "#     # , stopworded,\n",
    "#     #  tokenized, and \n",
    "#     # free of any non-letter characters"
   ]
  },
  {
   "cell_type": "code",
   "execution_count": null,
   "metadata": {},
   "outputs": [],
   "source": []
  }
 ],
 "metadata": {
  "kernelspec": {
   "display_name": "Python 3",
   "language": "python",
   "name": "python3"
  },
  "language_info": {
   "codemirror_mode": {
    "name": "ipython",
    "version": 3
   },
   "file_extension": ".py",
   "mimetype": "text/x-python",
   "name": "python",
   "nbconvert_exporter": "python",
   "pygments_lexer": "ipython3",
   "version": "3.8.3-final"
  }
 },
 "nbformat": 4,
 "nbformat_minor": 2
}